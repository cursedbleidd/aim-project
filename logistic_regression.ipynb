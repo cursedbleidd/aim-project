{
 "cells": [
  {
   "cell_type": "code",
   "execution_count": null,
   "metadata": {},
   "outputs": [],
   "source": [
    "%pip install --upgrade pip\n",
    "%pip install kagglehub pandas matplotlib seaborn tensorflow scikit-learn imblearn setuptools\n",
    "%pip install --upgrade tensorflow"
   ]
  },
  {
   "cell_type": "markdown",
   "metadata": {},
   "source": [
    "## Download"
   ]
  },
  {
   "cell_type": "code",
   "execution_count": 46,
   "metadata": {
    "colab": {
     "base_uri": "https://localhost:8080/",
     "height": 441
    },
    "executionInfo": {
     "elapsed": 2597,
     "status": "ok",
     "timestamp": 1734426264966,
     "user": {
      "displayName": "Fnq",
      "userId": "09510920175636819812"
     },
     "user_tz": -300
    },
    "id": "4XEjLWZ6OULw",
    "outputId": "404d18e1-2820-4ece-eaf7-e32c3e9ad800"
   },
   "outputs": [],
   "source": [
    "import kagglehub\n",
    "import pandas as pd\n",
    "import os\n",
    "\n",
    "\n",
    "path = kagglehub.dataset_download('uciml/sms-spam-collection-dataset')\n",
    "\n",
    "df = pd.read_csv(f'{path}/{os.listdir(path)[0]}', encoding='ISO-8859-1')\n",
    "df = df[['v1', 'v2']]\n",
    "df.columns = ['label', 'text']"
   ]
  },
  {
   "cell_type": "markdown",
   "metadata": {},
   "source": [
    "## Preprocessing"
   ]
  },
  {
   "cell_type": "code",
   "execution_count": 47,
   "metadata": {
    "colab": {
     "base_uri": "https://localhost:8080/",
     "height": 178
    },
    "executionInfo": {
     "elapsed": 935,
     "status": "ok",
     "timestamp": 1734426265899,
     "user": {
      "displayName": "Fnq",
      "userId": "09510920175636819812"
     },
     "user_tz": -300
    },
    "id": "XR-Kb9fS0WK_",
    "outputId": "3d82736c-29bf-4d39-de4c-43c4fb7b7e6d"
   },
   "outputs": [
    {
     "name": "stderr",
     "output_type": "stream",
     "text": [
      "c:\\Users\\bleidd\\source\\aim-project\\.venv\\Lib\\site-packages\\sklearn\\utils\\deprecation.py:151: FutureWarning: 'force_all_finite' was renamed to 'ensure_all_finite' in 1.6 and will be removed in 1.8.\n",
      "  warnings.warn(\n",
      "c:\\Users\\bleidd\\source\\aim-project\\.venv\\Lib\\site-packages\\sklearn\\base.py:484: FutureWarning: `BaseEstimator._check_n_features` is deprecated in 1.6 and will be removed in 1.7. Use `sklearn.utils.validation._check_n_features` instead.\n",
      "  warnings.warn(\n",
      "c:\\Users\\bleidd\\source\\aim-project\\.venv\\Lib\\site-packages\\sklearn\\base.py:493: FutureWarning: `BaseEstimator._check_feature_names` is deprecated in 1.6 and will be removed in 1.7. Use `sklearn.utils.validation._check_feature_names` instead.\n",
      "  warnings.warn(\n"
     ]
    },
    {
     "data": {
      "text/plain": [
       "label\n",
       "0    4825\n",
       "1    4825\n",
       "Name: count, dtype: int64"
      ]
     },
     "execution_count": 47,
     "metadata": {},
     "output_type": "execute_result"
    }
   ],
   "source": [
    "from imblearn.over_sampling import RandomOverSampler\n",
    "from sklearn.preprocessing import LabelEncoder\n",
    "\n",
    "label_encoder = LabelEncoder()\n",
    "\n",
    "df['label'] = label_encoder.fit_transform(df['label'])\n",
    "\n",
    "ros = RandomOverSampler(random_state=42)\n",
    "X_resampled, y_resampled = ros.fit_resample(df['text'].values.reshape(-1, 1), df['label'])\n",
    "\n",
    "balanced_df = pd.DataFrame({'text': X_resampled.flatten(), 'label': y_resampled})\n",
    "\n",
    "balanced_df['label'].value_counts()"
   ]
  },
  {
   "cell_type": "markdown",
   "metadata": {},
   "source": [
    "## Learning"
   ]
  },
  {
   "cell_type": "code",
   "execution_count": 48,
   "metadata": {
    "colab": {
     "base_uri": "https://localhost:8080/"
    },
    "executionInfo": {
     "elapsed": 636,
     "status": "ok",
     "timestamp": 1734426266534,
     "user": {
      "displayName": "Fnq",
      "userId": "09510920175636819812"
     },
     "user_tz": -300
    },
    "id": "FwjHbWmaRDvW",
    "outputId": "c21a2d15-c284-4c43-a234-6fdef40854c3"
   },
   "outputs": [
    {
     "name": "stdout",
     "output_type": "stream",
     "text": [
      "              precision    recall  f1-score   support\n",
      "\n",
      "           0       0.98      0.99      0.99       985\n",
      "           1       0.99      0.98      0.99       945\n",
      "\n",
      "    accuracy                           0.99      1930\n",
      "   macro avg       0.99      0.99      0.99      1930\n",
      "weighted avg       0.99      0.99      0.99      1930\n",
      "\n",
      "ROC-AUC: 0.9991426959954879\n"
     ]
    }
   ],
   "source": [
    "from sklearn.linear_model import LogisticRegression\n",
    "from sklearn.model_selection import train_test_split\n",
    "from sklearn.preprocessing import StandardScaler\n",
    "from sklearn.metrics import classification_report, roc_auc_score\n",
    "from sklearn.feature_extraction.text import TfidfVectorizer\n",
    "\n",
    "X_train, X_test, y_train, y_test = train_test_split(\n",
    "    balanced_df['text'], balanced_df['label'], test_size=0.2, random_state=42\n",
    ")\n",
    "\n",
    "tfidf = TfidfVectorizer(max_features=5000)\n",
    "X_train_tfidf = tfidf.fit_transform(X_train)\n",
    "X_test_tfidf = tfidf.transform(X_test)\n",
    "\n",
    "\n",
    "model = LogisticRegression()\n",
    "model.fit(X_train_tfidf, y_train)\n",
    "\n",
    "\n",
    "y_pred = model.predict(X_test_tfidf)\n",
    "y_prob = model.predict_proba(X_test_tfidf)[:, 1]\n",
    "\n",
    "print(classification_report(y_test, y_pred))\n",
    "print('ROC-AUC:', roc_auc_score(y_test, y_prob))\n"
   ]
  },
  {
   "cell_type": "markdown",
   "metadata": {},
   "source": [
    "## Testing"
   ]
  },
  {
   "cell_type": "code",
   "execution_count": 55,
   "metadata": {},
   "outputs": [
    {
     "data": {
      "text/html": [
       "<div>\n",
       "<style scoped>\n",
       "    .dataframe tbody tr th:only-of-type {\n",
       "        vertical-align: middle;\n",
       "    }\n",
       "\n",
       "    .dataframe tbody tr th {\n",
       "        vertical-align: top;\n",
       "    }\n",
       "\n",
       "    .dataframe thead th {\n",
       "        text-align: right;\n",
       "    }\n",
       "</style>\n",
       "<table border=\"1\" class=\"dataframe\">\n",
       "  <thead>\n",
       "    <tr style=\"text-align: right;\">\n",
       "      <th></th>\n",
       "      <th>text</th>\n",
       "      <th>label</th>\n",
       "    </tr>\n",
       "  </thead>\n",
       "  <tbody>\n",
       "    <tr>\n",
       "      <th>0</th>\n",
       "      <td>Free coupons due to weekend. Hurry up!</td>\n",
       "      <td>spam</td>\n",
       "    </tr>\n",
       "    <tr>\n",
       "      <th>1</th>\n",
       "      <td>New arrival of out paste name product. 99% discount on old items</td>\n",
       "      <td>spam</td>\n",
       "    </tr>\n",
       "    <tr>\n",
       "      <th>2</th>\n",
       "      <td>Where you bought that hoodie?</td>\n",
       "      <td>ham</td>\n",
       "    </tr>\n",
       "    <tr>\n",
       "      <th>3</th>\n",
       "      <td>Where you bought that hoodie? Summer sale on asos.com. 50% discount on every item for two days!</td>\n",
       "      <td>spam</td>\n",
       "    </tr>\n",
       "    <tr>\n",
       "      <th>4</th>\n",
       "      <td>Where you bought that hoodie? Summer sale on asos.com. Upgrade you wardrobe with us!</td>\n",
       "      <td>ham</td>\n",
       "    </tr>\n",
       "    <tr>\n",
       "      <th>5</th>\n",
       "      <td>Summer sale on asos.com. 50% discount on every item for two days!</td>\n",
       "      <td>spam</td>\n",
       "    </tr>\n",
       "    <tr>\n",
       "      <th>6</th>\n",
       "      <td>Summer sale on asos.com. Upgrade you wardrobe with us!</td>\n",
       "      <td>spam</td>\n",
       "    </tr>\n",
       "  </tbody>\n",
       "</table>\n",
       "</div>"
      ],
      "text/plain": [
       "                                                                                              text  \\\n",
       "0                                                           Free coupons due to weekend. Hurry up!   \n",
       "1                                 New arrival of out paste name product. 99% discount on old items   \n",
       "2                                                                    Where you bought that hoodie?   \n",
       "3  Where you bought that hoodie? Summer sale on asos.com. 50% discount on every item for two days!   \n",
       "4             Where you bought that hoodie? Summer sale on asos.com. Upgrade you wardrobe with us!   \n",
       "5                                Summer sale on asos.com. 50% discount on every item for two days!   \n",
       "6                                           Summer sale on asos.com. Upgrade you wardrobe with us!   \n",
       "\n",
       "  label  \n",
       "0  spam  \n",
       "1  spam  \n",
       "2   ham  \n",
       "3  spam  \n",
       "4   ham  \n",
       "5  spam  \n",
       "6  spam  "
      ]
     },
     "execution_count": 55,
     "metadata": {},
     "output_type": "execute_result"
    }
   ],
   "source": [
    "text = [\n",
    "    'Free coupons due to weekend. Hurry up!',\n",
    "    'New arrival of out paste name product. 99% discount on old items',\n",
    "    'Where you bought that hoodie?',\n",
    "    'Where you bought that hoodie? Summer sale on asos.com. 50% discount on every item for two days!',\n",
    "    'Where you bought that hoodie? Summer sale on asos.com. Upgrade you wardrobe with us!',\n",
    "    'Summer sale on asos.com. 50% discount on every item for two days!',\n",
    "    'Summer sale on asos.com. Upgrade you wardrobe with us!'\n",
    "]\n",
    "\n",
    "y_manual = model.predict(tfidf.transform(text))\n",
    "predicted = pd.DataFrame({'text': text, 'label': label_encoder.inverse_transform(y_manual)})\n",
    "predicted"
   ]
  }
 ],
 "metadata": {
  "colab": {
   "authorship_tag": "ABX9TyMN/VX8cORlbnnNEaobNKT0",
   "provenance": []
  },
  "kernelspec": {
   "display_name": ".venv",
   "language": "python",
   "name": "python3"
  },
  "language_info": {
   "codemirror_mode": {
    "name": "ipython",
    "version": 3
   },
   "file_extension": ".py",
   "mimetype": "text/x-python",
   "name": "python",
   "nbconvert_exporter": "python",
   "pygments_lexer": "ipython3",
   "version": "3.11.2"
  }
 },
 "nbformat": 4,
 "nbformat_minor": 0
}
